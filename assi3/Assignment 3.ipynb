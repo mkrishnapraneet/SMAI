{
 "cells": [
  {
   "cell_type": "markdown",
   "id": "d9d1724f",
   "metadata": {},
   "source": [
    "# Decision Trees"
   ]
  },
  {
   "cell_type": "markdown",
   "id": "46240d43",
   "metadata": {},
   "source": [
    "#### Instructions:\n",
    "- Write modular code with relevant docstrings and comments for you to be able to use\n",
    "functions you have implemented in future assignments.\n",
    "- All theory questions and observations must be written in a markdown cell of your jupyter notebook.You can alsoadd necessary images in `imgs/` and then include it in markdown. Any other submission method for theoretical question won't be entertained.\n",
    "- Start the assignment early, push your code regularly and enjoy learning!"
   ]
  },
  {
   "cell_type": "markdown",
   "id": "b31d6a65",
   "metadata": {},
   "source": [
    "### Question 1 Optimal DT from table\n",
    "**[20 points]**\\\n",
    "We will use the dataset below to learn a decision tree which predicts if people pass machine\n",
    "learning (Yes or No), based on their previous GPA (High, Medium, or Low) and whether or\n",
    "not they studied. \n",
    "\n",
    "| GPA | Studied | Passed |\n",
    "|:---:|:-------:|:------:|\n",
    "|  L  |    F    |    F   |\n",
    "|  L  |    T    |    T   |\n",
    "|  M  |    F    |    F   |\n",
    "|  M  |    T    |    T   |\n",
    "|  H  |    F    |    T   |\n",
    "|  H  |    T    |    T   |\n",
    "    \n",
    " For this problem, you can write your answers using $log_2$\n",
    ", but it may be helpful to note\n",
    "that $log_2 3 ≈ 1.6$.\n",
    "\n",
    "---\n",
    "1. What is the entropy H(Passed)?\n",
    "2. What is the entropy H(Passed | GPA)?\n",
    "3. What is the entropy H(Passed | Studied)?\n",
    "4. Draw the full decision tree that would be learned for this dataset. You do\n",
    "not need to show any calculations.\n",
    "---\n"
   ]
  },
  {
   "cell_type": "markdown",
   "id": "a0770179",
   "metadata": {},
   "source": [
    "1. H(Passed) = $- ( 4/6 * log_2(4/6) + 2/6 * log_2(2/6) ) = 0.9182958340544896$\n",
    "</br></br>\n",
    "\n",
    "2. H(Passed | GPA) = weighted average of H(Passed | GPA = L), H(Passed | GPA = M), H(Passed | GPA = H)\n",
    "    - H(Passed | GPA = L) = $- ( 1/2 * log_2(1/2) + 1/2 * log_2(1/2) ) = 1$\n",
    "    - H(Passed | GPA = M) = $- ( 1/2 * log_2(1/2) + 1/2 * log_2(1/2) ) = 1$\n",
    "    - H(Passed | GPA = H) = $- (1 * log_2(1) + 0 * log_2(0)) = 0$\n",
    "    - H(Passed | GPA) = $ (2/6 * 1) + (2/6 * 1) + (2/6 * 0) = 0.6666666666666666$\n",
    "</br></br>\n",
    "\n",
    "3. H(Passed | Studied) = weighted average of H(Passed | Studied = F), H(Passed | Studied = T)\n",
    "    - H(Passed | Studied = F) = $- (1/3) * log_2(1/3) + (2/3) * log_2(2/3) = 0.9182958340544896$\n",
    "    - H(Passed | Studied = T) = $- (1 * log_2(1) + 0 * log_2(0)) = 0$\n",
    "    - H(Passed | Studied) = $ (3/6 * 0.9182958340544896) + (3/6 * 0) = 0.5514444444444444$\n",
    "</br></br>\n",
    "\n",
    "4. Information Gain in first split is higher if we choose Studied as the root node. </br>\n",
    "IG(Studied) = H(Passed) - H(Passed | Studied) = 0.9182958340544896 - 0.5514444444444444 = 0.3668513896100452 </br>\n",
    "IG(GPA) = H(Passed) - H(Passed | GPA) = 0.9182958340544896 - 0.6666666666666666 = 0.251629167387823 </br>\n",
    "IG(Studied) > IG(GPA), so we choose Studied as the root node.\n",
    "\n",
    "\n",
    "<!-- insert image -->\n",
    "<img src=\"./decision_tree.png\">\n",
    "    \n",
    "    "
   ]
  },
  {
   "cell_type": "markdown",
   "id": "d58cf408",
   "metadata": {},
   "source": [
    "### Question 2 DT loss functions\n",
    "**[10 points]**\n",
    "1. Explain Gini impurity and Entropy. \n",
    "2. What are the min and max values for both Gini impurity and Entropy\n",
    "3. Plot the Gini impurity and Entropy for $p\\in[0,1]$.\n",
    "4. Multiply Gini impurity by a factor of 2 and overlay it over entropy."
   ]
  },
  {
   "cell_type": "markdown",
   "id": "38096b92",
   "metadata": {},
   "source": [
    "let c be number of classes, and $p_i$ be the probability of class i. </br> \n",
    "1. Gini impurity is a measure of how often a randomly chosen element from the set would be incorrectly labeled if it was randomly labeled according to the distribution of labels in the subset. Gini impurity can be calculated by summing the probability of each item being chosen times the probability of a mistake in categorizing that item. It reaches its minimum (zero) when all cases in the node fall into a single target category. \n",
    "$$ G = \\sum_{i=1}^{c} p_i(1-p_i) $$ \n",
    "$$ \\Rightarrow G = 1 - \\sum_{i=1}^{c} p_i^2 $$\n",
    "</br>\n",
    "Entropy is a measure of the uncertainty of a random variable. In information theory, the entropy of a random variable is the average level of uncertainty inherent to the variable's possible outcomes. In other words Entropy measures the expected amount of information conveyed by identifying the outcome of a random trial. It is given by:\n",
    "\n",
    "$$ H = - \\sum_{i=1}^{c} p_i log_2(p_i) $$\n",
    "\n",
    "Information gain is used to decide which feature to split on at each step in building the tree. Information gain is the difference between the entropy of the parent node and the weighted average of the entropy of the child nodes. The feature with the highest information gain is the one that we choose to split on.\n",
    "\n",
    "2. For entropy, the maximum value occurs when all the probabilities are equal, and the minimum value occurs when one of the probabilities is 1 and the others are 0. So, the maximum value is $- \\sum_{i=1}^{c} (1/c) log_2(1/c) = log_2(c)$ and the minimum value is 0. (Note that we take log base 2 because we have 2 classes generally, but we can take other base for different number of classes. So that means, max value becomes $log_c(c) = 1$)</br>\n",
    "For Gini impurity, the maximum value occurs when all the probabilities are equal, and the minimum value occurs when one of the probabilities is 1 and the others are 0. So, the maximum value is $1 - \\sum_{i=1}^{c} (1/c)^2 = 1 - c(1/c)^2 = 1 - \\frac{1}{c}$ and the minimum value is 0. </br>\n",
    "</br>\n",
    "\n",
    "3. Gini impurity and Entropy are plotted below.\n",
    "\n",
    "4. Gini impurity is multiplied by 2 and overlaid over Entropy after that.\n",
    "\n"
   ]
  },
  {
   "cell_type": "code",
   "execution_count": 8,
   "id": "24437fcd",
   "metadata": {},
   "outputs": [
    {
     "name": "stderr",
     "output_type": "stream",
     "text": [
      "<ipython-input-8-6fd5c5c451ff>:12: RuntimeWarning: divide by zero encountered in log2\n",
      "  return - p*np.log2(p) - (1 - p)*np.log2((1 - p))\n",
      "<ipython-input-8-6fd5c5c451ff>:12: RuntimeWarning: invalid value encountered in double_scalars\n",
      "  return - p*np.log2(p) - (1 - p)*np.log2((1 - p))\n"
     ]
    },
    {
     "data": {
      "image/png": "[encoded data removed]",
      "text/plain": [
       "<Figure size 432x288 with 1 Axes>"
      ]
     },
     "metadata": {
      "needs_background": "light"
     },
     "output_type": "display_data"
    }
   ],
   "source": [
    "# plot Gini impurity and entropy for a range of p values\n",
    "\n",
    "import numpy as np\n",
    "import matplotlib.pyplot as plt\n",
    "\n",
    "# define a function to calculate the Gini impurity\n",
    "def gini(p):\n",
    "    return p* (1-p) + (1 - p)*(1 - (1 - p))\n",
    "\n",
    "# define a function to calculate the entropy\n",
    "def entropy(p):\n",
    "    return - p*np.log2(p) - (1 - p)*np.log2((1 - p))\n",
    "\n",
    "\n",
    "# plot the Gini impurity and entropy for a range of p values\n",
    "x = np.arange(0.0, 1.0, 0.01)\n",
    "ent = []\n",
    "gini_imp = []\n",
    "for p in x:\n",
    "    ent.append(entropy(p))\n",
    "    gini_imp.append(gini(p))\n",
    "\n",
    "\n",
    "plt.plot(x, ent, label='Entropy')\n",
    "plt.plot(x, gini_imp, label='Gini impurity')\n",
    "\n",
    "plt.xlabel('p(i=1)')\n",
    "plt.ylabel('Impurity index')\n",
    "plt.legend(loc='upper right')\n",
    "plt.show()\n",
    "\n",
    "# print(max(gini_imp))\n"
   ]
  },
  {
   "cell_type": "code",
   "execution_count": 9,
   "id": "f45e4bbe",
   "metadata": {},
   "outputs": [
    {
     "data": {
      "image/png": "[encoded data removed]",
      "text/plain": [
       "<Figure size 432x288 with 1 Axes>"
      ]
     },
     "metadata": {
      "needs_background": "light"
     },
     "output_type": "display_data"
    }
   ],
   "source": [
    "# 2* gini with entropy\n",
    "\n",
    "gini_imp_2 = 2 * np.array(gini_imp)\n",
    "plt.plot(x, ent, label='Entropy')\n",
    "plt.plot(x, gini_imp_2, label='2*Gini impurity')\n",
    "\n",
    "plt.xlabel('p(i=1)')\n",
    "plt.ylabel('Impurity index')\n",
    "plt.legend(loc='upper right')\n",
    "plt.show()"
   ]
  },
  {
   "cell_type": "markdown",
   "id": "c9a406ac",
   "metadata": {},
   "source": [
    "### Question 3 Training a Decision Tree  \n",
    "**[40 points]**\n",
    "\n",
    "You can download the spam dataset from the link given below. This dataset contains feature vectors and the lables of Spam/Non-Spam mails. \n",
    "http://archive.ics.uci.edu/ml/machine-learning-databases/spambase/spambase.data\n",
    "\n",
    "**NOTE: The last column in each row represents whether the mail is spam or non spam**\\\n",
    "Although not needed, incase you want to know what the individual columns in the feature vector means, you can read it in the documentation given below.\n",
    "http://archive.ics.uci.edu/ml/machine-learning-databases/spambase/spambase.DOCUMENTATION"
   ]
  },
  {
   "cell_type": "markdown",
   "id": "28de757a",
   "metadata": {},
   "source": [
    "**Download the data and load it from the code given below**"
   ]
  },
  {
   "cell_type": "code",
   "execution_count": 10,
   "id": "163c0c1b",
   "metadata": {},
   "outputs": [
    {
     "name": "stdout",
     "output_type": "stream",
     "text": [
      "(4601, 57)\n",
      "(4601,)\n"
     ]
    }
   ],
   "source": [
    "\n",
    "#######################\n",
    "# Your code goes here #\n",
    "#######################\n",
    "\n",
    "# load spambase.data\n",
    "import pandas as pd\n",
    "import numpy as np\n",
    "import matplotlib.pyplot as plt\n",
    "from sklearn.model_selection import train_test_split\n",
    "from sklearn.tree import DecisionTreeClassifier\n",
    "from sklearn.metrics import accuracy_score\n",
    "\n",
    "\n",
    "# load the data\n",
    "df = pd.read_csv('spambase.data', header=None)\n",
    "\n",
    "# split the data into X and y\n",
    "# print(df.shape)\n",
    "X_read = df.iloc[:, 0:57].values\n",
    "y_read = df.iloc[:, 57].values\n",
    "\n",
    "# shuffle the data\n",
    "ind = np.arange(X_read.shape[0])\n",
    "np.random.shuffle(ind)\n",
    "X = X_read[ind]\n",
    "y = y_read[ind]\n",
    "\n",
    "print(X.shape)\n",
    "print(y.shape)\n"
   ]
  },
  {
   "cell_type": "markdown",
   "id": "1ffee80e",
   "metadata": {},
   "source": [
    "You can try to normalize each column (feature) separately with wither one of the following ideas. **Do not normalize labels**.\n",
    "- Shift-and-scale normalization: substract the minimum, then divide by new maximum. Now all values are between 0-1\n",
    "- Zero mean, unit variance : substract the mean, divide by the appropriate value to get variance=1."
   ]
  },
  {
   "cell_type": "code",
   "execution_count": 11,
   "id": "e67b0584",
   "metadata": {},
   "outputs": [],
   "source": [
    "\n",
    "#######################\n",
    "# Your code goes here #\n",
    "#######################\n",
    "\n",
    "# normalize the data\n",
    "\n",
    "min_X = np.min(X, axis=0)\n",
    "X = X - min_X\n",
    "max_X = np.max(X, axis=0)\n",
    "X = X / max_X\n",
    "\n",
    "# with open('test.txt', 'w') as f:\n",
    "#     for i in range(len(X)):\n",
    "#         for j in range(len(X[i])):\n",
    "#             f.write(str(X[i][j]) + ' ')\n",
    "#         f.write(str(y[i]) + '\\n')\n",
    "\n",
    "\n"
   ]
  },
  {
   "cell_type": "markdown",
   "id": "ef858082",
   "metadata": {},
   "source": [
    "1. Split your data into train 80% and test dataset 20% \n",
    "2. **[BONUS]** Visualize the data using PCA . You can reduce the dimension of the data if you want. Bonus marks if this increases your accuracy.\n",
    "\n",
    "*NOTE: If you are applying PCA or any other type of dimensionality reduction, do it before splitting the dataset*"
   ]
  },
  {
   "cell_type": "code",
   "execution_count": 12,
   "id": "817244db",
   "metadata": {},
   "outputs": [],
   "source": [
    "\n",
    "#######################\n",
    "# Your code goes here #\n",
    "#######################\n",
    "\n",
    "# split the data into 5 sets for cross validation\n",
    "\n",
    "X_train, X_test, y_train, y_test = train_test_split(X, y, test_size=0.2, random_state=42)\n",
    "\n",
    "# use PCA to reduce the dimensionality of the data\n",
    "\n",
    "from sklearn.decomposition import PCA\n",
    "\n",
    "pca = PCA(n_components=10)\n",
    "pca.fit(X)\n",
    "X_reduced = pca.transform(X)\n",
    "\n",
    "X_train_reduced, X_test_reduced, y_train_reduced, y_test_reduced = train_test_split(X_reduced, y, test_size=0.2, random_state=42)\n",
    "\n",
    "\n",
    "# print(X_train.shape)\n",
    "# print(X_test.shape)\n",
    "# print(y_train.shape)\n",
    "# print(y_test.shape)\n",
    "\n",
    "\n"
   ]
  },
  {
   "cell_type": "markdown",
   "id": "97e6bf66",
   "metadata": {},
   "source": [
    "You need to perform a K fold validation on this and report the average training error over all the k validations. \n",
    "- For this , you need to split the training data into k splits.\n",
    "- For each split, train a decision tree model and report the training , validation and test scores.\n",
    "- Report the scores in a tabular form for each validation"
   ]
  },
  {
   "cell_type": "code",
   "execution_count": 13,
   "id": "604495ec",
   "metadata": {},
   "outputs": [
    {
     "data": {
      "text/html": [
       "<div>\n",
       "<style scoped>\n",
       "    .dataframe tbody tr th:only-of-type {\n",
       "        vertical-align: middle;\n",
       "    }\n",
       "\n",
       "    .dataframe tbody tr th {\n",
       "        vertical-align: top;\n",
       "    }\n",
       "\n",
       "    .dataframe thead th {\n",
       "        text-align: right;\n",
       "    }\n",
       "</style>\n",
       "<table border=\"1\" class=\"dataframe\">\n",
       "  <thead>\n",
       "    <tr style=\"text-align: right;\">\n",
       "      <th></th>\n",
       "      <th>Fold 1</th>\n",
       "      <th>Fold 2</th>\n",
       "      <th>Fold 3</th>\n",
       "      <th>Fold 4</th>\n",
       "      <th>Fold 5</th>\n",
       "    </tr>\n",
       "  </thead>\n",
       "  <tbody>\n",
       "    <tr>\n",
       "      <th>Training</th>\n",
       "      <td>0.921875</td>\n",
       "      <td>0.927310</td>\n",
       "      <td>0.930367</td>\n",
       "      <td>0.925611</td>\n",
       "      <td>0.922215</td>\n",
       "    </tr>\n",
       "    <tr>\n",
       "      <th>Validation</th>\n",
       "      <td>0.918478</td>\n",
       "      <td>0.904891</td>\n",
       "      <td>0.896739</td>\n",
       "      <td>0.919837</td>\n",
       "      <td>0.914402</td>\n",
       "    </tr>\n",
       "    <tr>\n",
       "      <th>Test</th>\n",
       "      <td>0.893594</td>\n",
       "      <td>0.895765</td>\n",
       "      <td>0.882736</td>\n",
       "      <td>0.897937</td>\n",
       "      <td>0.890337</td>\n",
       "    </tr>\n",
       "  </tbody>\n",
       "</table>\n",
       "</div>"
      ],
      "text/plain": [
       "              Fold 1    Fold 2    Fold 3    Fold 4    Fold 5\n",
       "Training    0.921875  0.927310  0.930367  0.925611  0.922215\n",
       "Validation  0.918478  0.904891  0.896739  0.919837  0.914402\n",
       "Test        0.893594  0.895765  0.882736  0.897937  0.890337"
      ]
     },
     "metadata": {},
     "output_type": "display_data"
    },
    {
     "name": "stdout",
     "output_type": "stream",
     "text": [
      "Average Train Accuracy:  0.9254755434782609\n",
      "Average Validation Accuracy:  0.9108695652173914\n",
      "Average Test Accuracy:  0.8920738327904452\n",
      "Average Training Error:  0.07452445652173911\n",
      "Average Validation Error:  0.08913043478260863\n",
      "Average Test Error:  0.10792616720955484\n",
      "\n",
      "\n"
     ]
    },
    {
     "data": {
      "text/html": [
       "<div>\n",
       "<style scoped>\n",
       "    .dataframe tbody tr th:only-of-type {\n",
       "        vertical-align: middle;\n",
       "    }\n",
       "\n",
       "    .dataframe tbody tr th {\n",
       "        vertical-align: top;\n",
       "    }\n",
       "\n",
       "    .dataframe thead th {\n",
       "        text-align: right;\n",
       "    }\n",
       "</style>\n",
       "<table border=\"1\" class=\"dataframe\">\n",
       "  <thead>\n",
       "    <tr style=\"text-align: right;\">\n",
       "      <th></th>\n",
       "      <th>Fold 1</th>\n",
       "      <th>Fold 2</th>\n",
       "      <th>Fold 3</th>\n",
       "      <th>Fold 4</th>\n",
       "      <th>Fold 5</th>\n",
       "    </tr>\n",
       "  </thead>\n",
       "  <tbody>\n",
       "    <tr>\n",
       "      <th>Training</th>\n",
       "      <td>0.872283</td>\n",
       "      <td>0.882473</td>\n",
       "      <td>0.879416</td>\n",
       "      <td>0.880095</td>\n",
       "      <td>0.883152</td>\n",
       "    </tr>\n",
       "    <tr>\n",
       "      <th>Validation</th>\n",
       "      <td>0.841033</td>\n",
       "      <td>0.855978</td>\n",
       "      <td>0.854620</td>\n",
       "      <td>0.855978</td>\n",
       "      <td>0.868207</td>\n",
       "    </tr>\n",
       "    <tr>\n",
       "      <th>Test</th>\n",
       "      <td>0.829533</td>\n",
       "      <td>0.852334</td>\n",
       "      <td>0.841477</td>\n",
       "      <td>0.846906</td>\n",
       "      <td>0.856678</td>\n",
       "    </tr>\n",
       "  </tbody>\n",
       "</table>\n",
       "</div>"
      ],
      "text/plain": [
       "              Fold 1    Fold 2    Fold 3    Fold 4    Fold 5\n",
       "Training    0.872283  0.882473  0.879416  0.880095  0.883152\n",
       "Validation  0.841033  0.855978  0.854620  0.855978  0.868207\n",
       "Test        0.829533  0.852334  0.841477  0.846906  0.856678"
      ]
     },
     "metadata": {},
     "output_type": "display_data"
    },
    {
     "name": "stdout",
     "output_type": "stream",
     "text": [
      "Average Train Accuracy with PCA:  0.8794836956521739\n",
      "Average Validation Accuracy with PCA:  0.8551630434782609\n",
      "Average Test Accuracy with PCA:  0.8453854505971771\n"
     ]
    }
   ],
   "source": [
    "# Initialize K and split the data\n",
    "#Run the K fold Validation and report the scores\n",
    "\n",
    "#######################\n",
    "# Your code goes here #\n",
    "#######################\n",
    "\n",
    "# split the data into 5 sets for cross validation\n",
    "\n",
    "k = 5\n",
    "\n",
    "from sklearn.model_selection import KFold\n",
    "# kf = KFold(n_splits=k, random_state=42, shuffle=True)\n",
    "kf = KFold(n_splits=k)\n",
    "\n",
    "# print(kf.get_n_splits(X))\n",
    "\n",
    "# print(kf)\n",
    "train_accuracies = []\n",
    "validation_accuracies = []\n",
    "test_accuracies = []\n",
    "\n",
    "train_acc_PCA = []\n",
    "validation_acc_PCA = []\n",
    "test_acc_PCA = []\n",
    "\n",
    "i = 0\n",
    "avg_accuracy = 0\n",
    "for train_index, test_index in kf.split(X_train):\n",
    "    # print(\"TRAIN:\", len(train_index), \"TEST:\", len(test_index))\n",
    "    # print(\"TRAIN:\", train_index, \"TEST:\", test_index)\n",
    "    # print(\"Validation round: \", i+1)\n",
    "    X_train_kfold, X_validate = X_train[train_index], X_train[test_index]\n",
    "    y_train_kfold, y_validate = y_train[train_index], y_train[test_index]\n",
    "\n",
    "    clf = DecisionTreeClassifier(criterion='gini', max_depth=5, random_state=42)\n",
    "    clf.fit(X_train_kfold, y_train_kfold)\n",
    "    y_pred_train = clf.predict(X_train_kfold)\n",
    "    train_accuracies.append(accuracy_score(y_train_kfold, y_pred_train))    \n",
    "    y_pred_validate = clf.predict(X_validate)\n",
    "    validation_accuracies.append(accuracy_score(y_validate, y_pred_validate))\n",
    "    y_pred_test = clf.predict(X_test)\n",
    "    test_accuracies.append(accuracy_score(y_test, y_pred_test))    \n",
    "    # do it for reduced data as well\n",
    "    i += 1\n",
    "\n",
    "j = 0\n",
    "for PCA_train_index, PCA_test_index in kf.split(X_train_reduced):\n",
    "    # print(\"TRAIN:\", len(train_index), \"TEST:\", len(test_index))\n",
    "    # print(\"TRAIN:\", train_index, \"TEST:\", test_index)\n",
    "    # print(\"Validation round: \", i+1)\n",
    "    X_train_kfold_PCA, X_validate_PCA = X_train_reduced[PCA_train_index], X_train_reduced[PCA_test_index]\n",
    "    y_train_kfold_PCA, y_validate_PCA = y_train_reduced[PCA_train_index], y_train_reduced[PCA_test_index]\n",
    "\n",
    "    clf = DecisionTreeClassifier(criterion='gini', max_depth=5, random_state=42)\n",
    "    clf.fit(X_train_kfold_PCA, y_train_kfold_PCA)\n",
    "    y_pred_train_PCA = clf.predict(X_train_kfold_PCA)\n",
    "    train_acc_PCA.append(accuracy_score(y_train_kfold_PCA, y_pred_train_PCA))    \n",
    "    y_pred_validate_PCA = clf.predict(X_validate_PCA)\n",
    "    validation_acc_PCA.append(accuracy_score(y_validate_PCA, y_pred_validate_PCA))\n",
    "    y_pred_test_PCA = clf.predict(X_test_reduced)\n",
    "    test_acc_PCA.append(accuracy_score(y_test_reduced, y_pred_test_PCA))    \n",
    "    # do it for reduced data as well\n",
    "    j += 1\n",
    "    \n",
    "\n",
    "# print the accuracies in a table\n",
    "train_accuracies = np.array(train_accuracies)\n",
    "validation_accuracies = np.array(validation_accuracies)\n",
    "test_accuracies = np.array(test_accuracies)\n",
    "\n",
    "table = np.zeros((3, k))\n",
    "table[0] = train_accuracies\n",
    "table[1] = validation_accuracies\n",
    "table[2] = test_accuracies\n",
    "\n",
    "acc_table = pd.DataFrame(table, index=['Training', 'Validation', 'Test'], columns=[ 'Fold {}'.format(i+1) for i in range(k)])\n",
    "display(acc_table)\n",
    "# print(table)\n",
    "\n",
    "# print('Train Accuracies: ', train_accuracies)\n",
    "# print('Validation Accuracies: ', validation_accuracies)\n",
    "# print('Test Accuracies: ', test_accuracies)\n",
    "\n",
    "# print the average accuracies\n",
    "print('Average Train Accuracy: ', np.mean(train_accuracies))\n",
    "print('Average Validation Accuracy: ', np.mean(validation_accuracies))\n",
    "print('Average Test Accuracy: ', np.mean(test_accuracies))\n",
    "\n",
    "# calculate average training error over all folds\n",
    "avg_train_error = 1 - np.mean(train_accuracies)\n",
    "print('Average Training Error: ', avg_train_error)\n",
    "\n",
    "# calculate average validation error over all folds\n",
    "avg_validation_error = 1 - np.mean(validation_accuracies)\n",
    "print('Average Validation Error: ', avg_validation_error)\n",
    "\n",
    "# calculate average test error over all folds\n",
    "avg_test_error = 1 - np.mean(test_accuracies)\n",
    "print('Average Test Error: ', avg_test_error)\n",
    "\n",
    "\n",
    "\n",
    "\n",
    "print(\"\\n\")\n",
    "\n",
    "# print the accuracies in a table for PCA\n",
    "train_acc_PCA = np.array(train_acc_PCA)\n",
    "validation_acc_PCA = np.array(validation_acc_PCA)\n",
    "test_acc_PCA = np.array(test_acc_PCA)\n",
    "\n",
    "table_PCA = np.zeros((3, k))\n",
    "table_PCA[0] = train_acc_PCA\n",
    "table_PCA[1] = validation_acc_PCA\n",
    "table_PCA[2] = test_acc_PCA\n",
    "\n",
    "acc_table_PCA = pd.DataFrame(table_PCA, index=['Training', 'Validation', 'Test'], columns=[ 'Fold {}'.format(i+1) for i in range(k)])\n",
    "display(acc_table_PCA)\n",
    "\n",
    "# print the average accuracies for PCA\n",
    "print('Average Train Accuracy with PCA: ', np.mean(train_acc_PCA))\n",
    "print('Average Validation Accuracy with PCA: ', np.mean(validation_acc_PCA))\n",
    "print('Average Test Accuracy with PCA: ', np.mean(test_acc_PCA))"
   ]
  },
  {
   "cell_type": "markdown",
   "id": "12dcdf68",
   "metadata": {},
   "source": [
    "### Question 4 Random Forest Algorithm\n",
    "**[30 points]**"
   ]
  },
  {
   "cell_type": "markdown",
   "id": "61115eaf",
   "metadata": {},
   "source": [
    "1. What is boosting, bagging and  stacking?\n",
    "Which class does random forests belong to and why? **[5 points]**"
   ]
  },
  {
   "cell_type": "markdown",
   "id": "bd300b92",
   "metadata": {},
   "source": [
    "Bagging: Bagging is a name derived from “bootstrap aggregation” — uses multiple versions of a training set, each created by drawing n' < n samples from Dataset with replacement. Each of these bootstrap data sets is used to train a diﬀerent component classiﬁer and the ﬁnal classiﬁcation decision is based on the vote of each component classiﬁer. Traditionally the component classiﬁers are of the same general form (example :- all decision trees) — merely the ﬁnal parameter values diﬀer among them due to their diﬀerent sets of training patterns.In general, bagging improves recognition for unstable classiﬁers since it eﬀectively averages over such discontinuities. It is used to reduce variance of a decision tree classifier. Can use parallelization. Bagging consists of combining homogeneous weak learners.</br>\n",
    "</br>\n",
    "Boosting: The goal of boosting is to improve the accuracy of any given learning algorithm. In boosting we ﬁrst create a classiﬁer with accuracy on the training set greater than average, and then add new component classiﬁers to form an ensemble whose joint decision rule has arbitrarily high accuracy on the training set. In such a case we say the classiﬁcation performance has been “boosted.” In  overview, the technique trains successive component classiﬁers with a subset of the training data that is “most informative” given the current set of component classiﬁers. Classiﬁcation of a test point x is based on the outputs of the component classiﬁers. It is mainly used to reduce bias of a decision tree classifier. Cannot use parallelization. Boosting consists of combinig homogeneous weak learners, but in a deterministic way</br>\n",
    "</br>\n",
    "Stacking: Unlike bagging and boosting, stacking uses combination of heterogeneous weak learners, i.e it uses various different learning algorithms (decision trees, SVM, etc) in conjunction. Stacking learns to combine the base models using a meta-model whereas bagging and boosting combine weak learners following deterministic algorithms.\n",
    "</br>\n",
    "</br>\n",
    "\n",
    "Random forests belong to bagging. This is because, in random forests, many deep decision trees are trained, and during classification their votes are taken for the final classification. Since we are training multiple decision trees, it is a bagging algorithm.\n"
   ]
  },
  {
   "cell_type": "markdown",
   "id": "6b9c366d",
   "metadata": {},
   "source": [
    "2. Implement random forest algorithm using different decision trees. **[25 points]** "
   ]
  },
  {
   "cell_type": "code",
   "execution_count": 14,
   "id": "412cfb26",
   "metadata": {},
   "outputs": [
    {
     "name": "stdout",
     "output_type": "stream",
     "text": [
      "X_train shape:  (3680, 57)\n",
      "y_train shape:  (3680,)\n",
      "Random Forest Train Accuracy:  0.9217663043478261\n",
      "Random Forest Test Accuracy:  0.882356134636265\n"
     ]
    },
    {
     "data": {
      "image/png": "[encoded data removed]",
      "text/plain": [
       "<Figure size 720x360 with 1 Axes>"
      ]
     },
     "metadata": {
      "needs_background": "light"
     },
     "output_type": "display_data"
    }
   ],
   "source": [
    "def random_forest_algorithm(num_trees, X, y, num_features_req): # Pass necessary params as per requirements\n",
    "    #######################\n",
    "    # Your code goes here #\n",
    "    #######################\n",
    "\n",
    "    # print(X.shape)\n",
    "    # print(y.shape)\n",
    "\n",
    "    X_train, X_test, y_train,  y_test = train_test_split(X, y, test_size=0.2, random_state=42)\n",
    "\n",
    "    print(\"X_train shape: \", X_train.shape)\n",
    "    print(\"y_train shape: \", y_train.shape)\n",
    "\n",
    "    num_data = X_train.shape[0]\n",
    "    # print(num_data)\n",
    "    # print(num_data)\n",
    "    num_features = X_train.shape[1]\n",
    "\n",
    "    # forest = []\n",
    "    train_accuracy = []\n",
    "    test_accuracy = []\n",
    "\n",
    "    for i in range(num_trees):\n",
    "        # print(\"Tree: \", i+1)\n",
    "        # print(\"num_data: \", num_data)\n",
    "        # print(\"num_features: \", num_features)\n",
    "        # print(\"X.shape: \", X.shape)\n",
    "        # print(\"y.shape: \", y.shape)\n",
    "\n",
    "        # create a random sample of data with replacement\n",
    "        sample_indices = np.random.choice(num_data, num_data, replace=True)\n",
    "        X_sample = X_train[sample_indices]\n",
    "        y_sample = y_train[sample_indices]\n",
    "\n",
    "        # create a random sample of features without replacement\n",
    "        feature_indices = np.random.choice(num_features, num_features_req, replace=False)\n",
    "        X_sample = X_sample[:, feature_indices]\n",
    "        X_test_sample = X_test[:, feature_indices]\n",
    "\n",
    "\n",
    "        # print(\"X_sample.shape: \", X_sample.shape)\n",
    "        # print(\"y_sample.shape: \", y_sample.shape)\n",
    "\n",
    "        # create a decision tree\n",
    "        clf = DecisionTreeClassifier(criterion='gini', max_depth=5, random_state=42)\n",
    "        clf.fit(X_sample, y_sample)\n",
    "\n",
    "        # predict the labels for the data\n",
    "        y_pred_train = clf.predict(X_sample)\n",
    "        y_pred_test = clf.predict(X_test_sample)\n",
    "\n",
    "        # print(\"y_pred_train.shape: \", y_pred_train.shape)\n",
    "        # print(\"y_pred_test.shape: \", y_pred_test.shape)\n",
    "\n",
    "\n",
    "        # calculate the accuracy\n",
    "        train_accuracy.append(accuracy_score(y_sample, y_pred_train))\n",
    "        test_accuracy.append(accuracy_score(y_test, y_pred_test))\n",
    "        # print(\"yes\\n\")\n",
    "\n",
    "    return train_accuracy, test_accuracy\n",
    " \n",
    "\n",
    "random_forest = random_forest_algorithm(20, X, y, 40)\n",
    "\n",
    "print(\"Random Forest Train Accuracy: \", np.mean(random_forest[0]))\n",
    "print(\"Random Forest Test Accuracy: \", np.mean(random_forest[1]))\n",
    "\n",
    "df = pd.DataFrame({'Train Accuracy': random_forest[0], 'Test Accuracy': random_forest[1]})\n",
    "df.plot(kind='bar', figsize=(10, 5))\n",
    "plt.show()\n"
   ]
  },
  {
   "cell_type": "code",
   "execution_count": null,
   "id": "780e99f2",
   "metadata": {},
   "outputs": [],
   "source": []
  }
 ],
 "metadata": {
  "kernelspec": {
   "display_name": "Python 3.8.10 64-bit",
   "language": "python",
   "name": "python3"
  },
  "language_info": {
   "codemirror_mode": {
    "name": "ipython",
    "version": 3
   },
   "file_extension": ".py",
   "mimetype": "text/x-python",
   "name": "python",
   "nbconvert_exporter": "python",
   "pygments_lexer": "ipython3",
   "version": "3.8.10"
  },
  "vscode": {
   "interpreter": {
    "hash": "31f2aee4e71d21fbe5cf8b01ff0e069b9275f58929596ceb00d14d90e3e16cd6"
   }
  }
 },
 "nbformat": 4,
 "nbformat_minor": 5
}
