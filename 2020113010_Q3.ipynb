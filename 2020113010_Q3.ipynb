{
 "cells": [
  {
   "cell_type": "markdown",
   "id": "389ddf1d",
   "metadata": {},
   "source": [
    "# Assignment 2 - Question 3\n",
    "The objective of this assignment is to get you familiarize with  the  problem  of  `Logistic Regression`.\n",
    "\n",
    "\n",
    "## Instructions\n",
    "- Do not Use Direct Inbuilt functions for the Task.\n",
    "- Numpy or other math libraries are allowed.\n",
    "- Ensure that this notebook runs without errors when the cells are run in sequence.\n",
    "- Do not change the contents of the Given cells. Use new cells to Write your code.\n",
    "\n",
    "\n",
    "## Submission\n",
    "- Ensure that this notebook runs without errors when the cells are run in sequence.\n",
    "- Rename the notebook to `<roll_number>_Q3.ipynb`\n",
    "- Fill the Name and Roll number in the below markdown"
   ]
  },
  {
   "cell_type": "markdown",
   "id": "6f6269f1",
   "metadata": {},
   "source": [
    "Name: Mulukutla Krishna Praneet<br>\n",
    "Roll Number: 2020113010"
   ]
  },
  {
   "cell_type": "markdown",
   "id": "850dba90",
   "metadata": {},
   "source": [
    "### Dataset\n",
    "\n",
    "Use the code below to load the Dataset\n"
   ]
  },
  {
   "cell_type": "code",
   "execution_count": 269,
   "id": "225cdbe5",
   "metadata": {},
   "outputs": [],
   "source": [
    "import numpy as np\n",
    "import matplotlib.pyplot as plt"
   ]
  },
  {
   "cell_type": "code",
   "execution_count": 270,
   "id": "73ed0112",
   "metadata": {},
   "outputs": [],
   "source": [
    "from sklearn.datasets import make_blobs\n",
    "X, y =  make_blobs(n_samples=100, centers=[[2,4],[4,2]], random_state=20)"
   ]
  },
  {
   "cell_type": "code",
   "execution_count": 271,
   "id": "b2ec2927",
   "metadata": {},
   "outputs": [
    {
     "data": {
      "text/plain": [
       "[<matplotlib.lines.Line2D at 0x7f87601786a0>]"
      ]
     },
     "execution_count": 271,
     "metadata": {},
     "output_type": "execute_result"
    },
    {
     "data": {
      "image/png": "[encoded data removed]",
      "text/plain": [
       "<Figure size 432x288 with 1 Axes>"
      ]
     },
     "metadata": {
      "needs_background": "light"
     },
     "output_type": "display_data"
    }
   ],
   "source": [
    "#Visualize dataset \n",
    "plt.plot(X[:,0][y==0],X[:,1][y==0],'o',color='red')\n",
    "plt.plot(X[:,0][y==1],X[:,1][y==1],'^',color='blue')\n"
   ]
  },
  {
   "cell_type": "markdown",
   "id": "43326e6b",
   "metadata": {},
   "source": [
    "Write your code below for logistic regression with Gradient Descent and plot the decision boundary.<br>\n",
    "Sample output is given in the file `LogisticRegression_sample_result.png`"
   ]
  },
  {
   "cell_type": "code",
   "execution_count": 272,
   "id": "a193966a",
   "metadata": {},
   "outputs": [
    {
     "data": {
      "image/png": "[encoded data removed]",
      "text/plain": [
       "<Figure size 432x288 with 1 Axes>"
      ]
     },
     "metadata": {
      "needs_background": "light"
     },
     "output_type": "display_data"
    },
    {
     "name": "stdout",
     "output_type": "stream",
     "text": [
      "Accuracy =  0.85\n"
     ]
    }
   ],
   "source": [
    "from sklearn.model_selection import train_test_split\n",
    "\n",
    "# test train split\n",
    "X_train, X_test, y_train, y_test = train_test_split(X, y, test_size=0.2, random_state=0)\n",
    "\n",
    "# use the sigmoid function to calculate the probability of the logistic regression model\n",
    "def sigmoid(scores):\n",
    "    return 1 / (1 + np.exp(-scores))\n",
    "\n",
    "# Logistic Regression\n",
    "\n",
    "class LogisticRegression():\n",
    "    def __init__(self, X_train, y_train, learning_rate, iterations):\n",
    "        # self.X = X_train\n",
    "        self.X = np.c_[np.ones((X_train.shape[0],1)),X_train]\n",
    "        self.y = y_train\n",
    "        self.W = np.zeros((X_train.shape[1]+1,1))\n",
    "        # self.learning_rate = 0.001\n",
    "        self.learning_rate = learning_rate\n",
    "        # self.iterations = 100000\n",
    "        self.iterations = iterations\n",
    "        # print(self.X.shape)\n",
    "        # print(self.y.shape)\n",
    "        # print(self.W.shape)\n",
    "\n",
    "# use the log loss function to calculate the loss in the logistic regression model\n",
    "    def log_loss(self, W):\n",
    "        z = np.dot(self.X,W)\n",
    "        cost0 = (self.y).T.dot(np.log(sigmoid(z)))\n",
    "        cost1 = (1-(self.y)).T.dot(np.log(1-sigmoid(z)))\n",
    "        cost = -((cost1 + cost0))/len(self.y) \n",
    "        return cost\n",
    "\n",
    "    # dJ/dW = X.T.dot(sigmoid(z)-y)       \n",
    "\n",
    "    def fit(self):\n",
    "        # dJ_by_dW = 500\n",
    "        # counter = 0\n",
    "        counter = 0\n",
    "        diff = 500\n",
    "        prev_W = self.W\n",
    "        # for i in range(self.iterations):        \n",
    "        while (diff > 1e-5):\n",
    "            z = np.dot(self.X,self.W)\n",
    "            dJ_by_dW = np.dot(self.X.T,(sigmoid(z)-np.reshape(self.y,(len(self.y),1))))\n",
    "            self.W = self.W - ((self.learning_rate) / (self.X.shape[0]) ) * dJ_by_dW\n",
    "            diff = np.sum(abs(self.W - prev_W))\n",
    "            prev_W = self.W\n",
    "            counter += 1\n",
    "            # print(self.W)\n",
    "            # if i % 1000 == 0:\n",
    "                # print(self.log_loss(self.W))\n",
    "        # print(\"Number of iterations: \", counter)\n",
    "        return self.W\n",
    "\n",
    "    def predict(self, X_test):\n",
    "        X_test = np.c_[np.ones((X_test.shape[0],1)),X_test]\n",
    "        z = np.dot(X_test,self.W)   \n",
    "        return sigmoid(z)\n",
    "    \n",
    "    def accuracy(self, X_test, y_test):\n",
    "        y_pred = self.predict(X_test)\n",
    "        y_pred = (y_pred > 0.5).astype(int)\n",
    "        # print(y_pred)\n",
    "        # print(y_test)\n",
    "        # compare the predicted value with the actual value\n",
    "        count = 0\n",
    "        for i in range(len(y_pred)):\n",
    "            if y_pred[i] == y_test[i]:\n",
    "                count += 1\n",
    "        return count/len(y_pred)\n",
    "        # return np.mean(y_pred == y_test)\n",
    "    \n",
    "    def plot(self):\n",
    "        plt.plot(X[:,0][y==0],X[:,1][y==0],'o',color='red')\n",
    "        plt.plot(X[:,0][y==1],X[:,1][y==1],'^',color='blue')\n",
    "        x1 = np.linspace(0, 6, 80)\n",
    "        x2 = -(self.W[0] + self.W[1]*x1)/self.W[2]\n",
    "        plt.plot(x1, x2, color='green')\n",
    "        # plt.plot(self.W)\n",
    "        # print(self.W)\n",
    "        plt.show()\n",
    "    \n",
    "\n",
    "model = LogisticRegression(X_train, y_train, 0.01, 100000)\n",
    "model.fit()\n",
    "model.plot()\n",
    "print(\"Accuracy = \" , model.accuracy(X_test, y_test))\n"
   ]
  },
  {
   "cell_type": "markdown",
   "id": "c1f2b4c5",
   "metadata": {},
   "source": [
    "### Questions\n",
    "\n",
    "1) Explain the approach of Logistic Regression.<br>\n",
    "2) What is the loss function used?<br>\n",
    "3) Explain if we can use Mean Square Error(MSE) as Loss function."
   ]
  },
  {
   "cell_type": "markdown",
   "id": "343f2cef",
   "metadata": {},
   "source": []
  }
 ],
 "metadata": {
  "kernelspec": {
   "display_name": "Python 3.8.10 64-bit",
   "language": "python",
   "name": "python3"
  },
  "language_info": {
   "codemirror_mode": {
    "name": "ipython",
    "version": 3
   },
   "file_extension": ".py",
   "mimetype": "text/x-python",
   "name": "python",
   "nbconvert_exporter": "python",
   "pygments_lexer": "ipython3",
   "version": "3.8.10"
  },
  "vscode": {
   "interpreter": {
    "hash": "31f2aee4e71d21fbe5cf8b01ff0e069b9275f58929596ceb00d14d90e3e16cd6"
   }
  }
 },
 "nbformat": 4,
 "nbformat_minor": 5
}
