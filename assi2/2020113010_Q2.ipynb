{
 "cells": [
  {
   "cell_type": "markdown",
   "id": "timely-inspection",
   "metadata": {},
   "source": [
    "# Assignment 2 - Question 2\n",
    "The objective of this assignment is to get you familiarize with  the  problem  of  `Dimensionality Reduction`.\n",
    "\n",
    "\n",
    "## Instructions\n",
    "\n",
    "- Write your code and analysis in the indicated cells.\n",
    "- Ensure that this notebook runs without errors when the cells are run in sequence.\n",
    "- Do not attempt to change the contents of other cells.\n",
    "- No inbuilt functions to be used until specified. Libraries allowed (Numpy, matplotlib)\n",
    "\n",
    "## Datasets \n",
    "- The IIIT-CFW is database for the cartoon faces in the wild. The dataset contains 8928 annotated cartoon faces of famous personalities of the world with varying profession. Additional 1000 real faces of the public figure to study cross modal retrieval tasks, such as, Photo2Cartoon retrieval. Ref - https://cvit.iiit.ac.in/research/projects/cvit-projects/cartoonfaces\n",
    "- We have sub sampled the following data for this assignment - Cartoon faces of 8 subjects and approx. 100 images for each subject. \n",
    "\n",
    "## Submission\n",
    "- Ensure that this notebook runs without errors when the cells are run in sequence.\n",
    "- Rename the notebook to `<roll_number>_Q2.ipynb`.\n",
    "- Fill the Name and Roll number in the below markdown"
   ]
  },
  {
   "cell_type": "markdown",
   "id": "6f6269f1",
   "metadata": {},
   "source": [
    "Name: Mulukutla Krishna Praneet<br>\n",
    "Roll Number:"
   ]
  },
  {
   "cell_type": "code",
   "execution_count": 1,
   "id": "israeli-convergence",
   "metadata": {},
   "outputs": [
    {
     "name": "stdout",
     "output_type": "stream",
     "text": [
      "Requirement already satisfied: scikit-learn in /home/mkp/.local/lib/python3.8/site-packages (1.0.2)\n",
      "Requirement already satisfied: matplotlib in /home/mkp/.local/lib/python3.8/site-packages (3.3.2)\n",
      "Requirement already satisfied: Pillow in /usr/lib/python3/dist-packages (7.0.0)\n",
      "Requirement already satisfied: threadpoolctl>=2.0.0 in /home/mkp/.local/lib/python3.8/site-packages (from scikit-learn) (3.1.0)\n",
      "Requirement already satisfied: joblib>=0.11 in /home/mkp/.local/lib/python3.8/site-packages (from scikit-learn) (0.17.0)\n",
      "Requirement already satisfied: scipy>=1.1.0 in /usr/local/lib/python3.8/dist-packages (from scikit-learn) (1.7.0)\n",
      "Requirement already satisfied: numpy>=1.14.6 in /home/mkp/.local/lib/python3.8/site-packages (from scikit-learn) (1.19.4)\n",
      "Requirement already satisfied: kiwisolver>=1.0.1 in /home/mkp/.local/lib/python3.8/site-packages (from matplotlib) (1.3.1)\n",
      "Requirement already satisfied: pyparsing!=2.0.4,!=2.1.2,!=2.1.6,>=2.0.3 in /home/mkp/.local/lib/python3.8/site-packages (from matplotlib) (2.4.7)\n",
      "Requirement already satisfied: python-dateutil>=2.1 in /usr/lib/python3/dist-packages (from matplotlib) (2.7.3)\n",
      "Requirement already satisfied: certifi>=2020.06.20 in /home/mkp/.local/lib/python3.8/site-packages (from matplotlib) (2020.11.8)\n",
      "Requirement already satisfied: cycler>=0.10 in /home/mkp/.local/lib/python3.8/site-packages (from matplotlib) (0.10.0)\n",
      "Requirement already satisfied: six in /home/mkp/.local/lib/python3.8/site-packages (from cycler>=0.10->matplotlib) (1.16.0)\n"
     ]
    }
   ],
   "source": [
    "# Installing Pillow Libraries\n",
    "!pip install scikit-learn matplotlib Pillow"
   ]
  },
  {
   "cell_type": "code",
   "execution_count": 2,
   "id": "automated-neighbor",
   "metadata": {},
   "outputs": [],
   "source": [
    "import numpy as np\n",
    "import os\n",
    "from random import randrange\n",
    "from matplotlib import pyplot as plt\n",
    "from PIL import Image"
   ]
  },
  {
   "cell_type": "markdown",
   "id": "agricultural-expression",
   "metadata": {},
   "source": [
    "## Load Data"
   ]
  },
  {
   "cell_type": "code",
   "execution_count": 3,
   "id": "suitable-powder",
   "metadata": {},
   "outputs": [],
   "source": [
    "cfw_dict = {\n",
    "    'Amitabhbachan': 0,\n",
    "    'AamirKhan': 1,\n",
    "    'DwayneJohnson': 2,\n",
    "    'AishwaryaRai': 3,\n",
    "    'BarackObama': 4,\n",
    "    'NarendraModi': 5,\n",
    "    'ManmohanSingh': 6,\n",
    "    'VladimirPutin': 7\n",
    "}\n",
    "\n",
    "opt = {\n",
    "    'image_size': 32,\n",
    "    'is_grayscale': False,\n",
    "    'val_split': 0.75\n",
    "}"
   ]
  },
  {
   "cell_type": "code",
   "execution_count": 4,
   "id": "lucky-brazil",
   "metadata": {},
   "outputs": [],
   "source": [
    "def load_image(path):\n",
    "    im = Image.open(path).convert('L' if opt['is_grayscale'] else 'RGB')\n",
    "    im = im.resize((opt['image_size'],opt['image_size']))\n",
    "    im = np.array(im)\n",
    "    im = im/256\n",
    "    return im\n",
    "\n",
    "def display_images(imgs,classes,row=1,col=2,w=32,h=32):\n",
    "    fig=plt.figure(figsize=(8, 8))\n",
    "    for i in range(1, col*row +1):\n",
    "        img = imgs[i-1]\n",
    "        fig.add_subplot(row, col, i)\n",
    "        \n",
    "        if opt['is_grayscale']:\n",
    "            plt.imshow(img , cmap='gray') \n",
    "        else:\n",
    "            plt.imshow(img)\n",
    "        \n",
    "        plt.title(\"Class:{}\".format(classes[i-1]))\n",
    "        plt.axis('off')\n",
    "    plt.show()\n",
    "\n",
    "def load_data(dir_path):\n",
    "    image_list = []\n",
    "    y_list = []\n",
    "    label_dict = cfw_dict\n",
    "    for filename in sorted(os.listdir(dir_path)):\n",
    "        if filename.endswith(\".png\"):\n",
    "            im = load_image(os.path.join(dir_path,filename))\n",
    "            y = filename.split('_')[0]\n",
    "            y = label_dict[y] \n",
    "            image_list.append(im)\n",
    "            y_list.append(y)\n",
    "        else:\n",
    "            continue\n",
    "    image_list = np.array(image_list)\n",
    "    y_list = np.array(y_list)\n",
    "    print(\"Dataset shape:\",image_list.shape)\n",
    "    print(\"Label shape:\",y_list.shape)\n",
    "\n",
    "    return image_list,y_list"
   ]
  },
  {
   "cell_type": "code",
   "execution_count": 5,
   "id": "ceramic-michigan",
   "metadata": {},
   "outputs": [
    {
     "name": "stdout",
     "output_type": "stream",
     "text": [
      "Dataset shape: (672, 32, 32, 3)\n",
      "Label shape: (672,)\n"
     ]
    }
   ],
   "source": [
    "dirpath = './IIIT-CFW/'\n",
    "X,y = load_data(dirpath)"
   ]
  },
  {
   "cell_type": "code",
   "execution_count": 6,
   "id": "colored-lafayette",
   "metadata": {},
   "outputs": [
    {
     "data": {
      "image/png": "[encoded data removed]",
      "text/plain": [
       "<Figure size 576x576 with 6 Axes>"
      ]
     },
     "metadata": {
      "needs_background": "light"
     },
     "output_type": "display_data"
    }
   ],
   "source": [
    "N,H,W = X.shape[0:3]\n",
    "C = 1 if opt['is_grayscale'] else X.shape[3]\n",
    "\n",
    "ind = np.random.randint(0,y.shape[0],6)\n",
    "display_images(X[ind,...],y[ind], row=2,col=3)"
   ]
  },
  {
   "cell_type": "markdown",
   "id": "removed-guarantee",
   "metadata": {},
   "source": [
    "## Dimensionality Reduction\n",
    "- Plot eigen spectrum for the data.\n",
    "\n",
    "Percentage of variance preserved is defined as the fraction of eigen values used. As we include more principal components to describe the data, the percentage of variances preserved under the dimensionality reduction increases. \n",
    "\n",
    "- Plot the percentage of variances vs the number of principal components to validate the above statement.\n",
    "- Try visualizing these eigen vectors. Comment on what these ghost faces represent \n",
    "- Try reconstructing images with your choice of number of principal components and visualize the reconstructed image.\n",
    "\n",
    "Let's define reconstruction error as the frobenius norm of the difference between original and reconstructed image. \n",
    "\n",
    "- Plot the number of principal components vs the corresponding reconstruction error for 5 selected number of principal components of your choice.\n",
    "- Using the two dominant principal values, plot the data with colors showing the labels. What do you observe?\n"
   ]
  },
  {
   "cell_type": "markdown",
   "id": "naughty-adelaide",
   "metadata": {},
   "source": [
    "#### Write a function that gives eigen values and eigen vectors given data"
   ]
  },
  {
   "cell_type": "code",
   "execution_count": 7,
   "id": "minus-theta",
   "metadata": {},
   "outputs": [],
   "source": [
    "# write function"
   ]
  },
  {
   "cell_type": "markdown",
   "id": "identified-weight",
   "metadata": {},
   "source": [
    "#### Compute eigen values and plot eigen value spectrum"
   ]
  },
  {
   "cell_type": "code",
   "execution_count": 8,
   "id": "right-turning",
   "metadata": {},
   "outputs": [],
   "source": [
    "# eigen values and spectrum"
   ]
  },
  {
   "cell_type": "markdown",
   "id": "silent-fitness",
   "metadata": {},
   "source": [
    "#### Plot the percentage of variances vs the number of principal components"
   ]
  },
  {
   "cell_type": "code",
   "execution_count": 9,
   "id": "given-violence",
   "metadata": {},
   "outputs": [],
   "source": [
    "# plot variance vs components"
   ]
  },
  {
   "cell_type": "markdown",
   "id": "handy-affiliation",
   "metadata": {},
   "source": [
    "#### Visualize eigen faces(eigen vectors)"
   ]
  },
  {
   "cell_type": "code",
   "execution_count": null,
   "id": "wicked-malta",
   "metadata": {},
   "outputs": [],
   "source": [
    "\"\"\"\n",
    "Use the below sample code to visualize the eigen faces and reconstructed images (can write your own function as well)\n",
    "\n",
    "def plot(image,H,W,C,indices):\n",
    "    #indices = [randrange(100)+1 for i in range(5)]\n",
    "    pl = np.reshape(image.T,(-1,H,W,C))\n",
    "    plt.figure(figsize=(25,25))\n",
    "    for c,i in enumerate(indices):\n",
    "        ele = pl[i]\n",
    "        minim = np.min(ele)\n",
    "        maxim = np.max(ele)\n",
    "        ele = (ele - minim) / (maxim - minim)\n",
    "        ele = np.clip(ele,0,254)\n",
    "        plt.subplot(1,12,c+1)\n",
    "        plt.axis('off')\n",
    "        plt.imshow(ele,cmap=plt.cm.gray)\n",
    "    plt.show()\n",
    "\n",
    "indices = [randrange(12)+1 for i in range(5)]\n",
    "plot(eig_vecs,H,W,C, indices)\n",
    "\"\"\""
   ]
  },
  {
   "cell_type": "markdown",
   "id": "current-classification",
   "metadata": {},
   "source": [
    "#### Reconstruction "
   ]
  },
  {
   "cell_type": "code",
   "execution_count": 11,
   "id": "sacred-luxembourg",
   "metadata": {},
   "outputs": [],
   "source": [
    "# reconstruction"
   ]
  },
  {
   "cell_type": "markdown",
   "id": "fluid-venice",
   "metadata": {},
   "source": [
    "#### Plot data in 2D"
   ]
  },
  {
   "cell_type": "code",
   "execution_count": 12,
   "id": "exempt-terrace",
   "metadata": {},
   "outputs": [],
   "source": [
    "# plot data in 2D"
   ]
  },
  {
   "cell_type": "markdown",
   "id": "animal-double",
   "metadata": {},
   "source": [
    "## Lets analyze the principal components classwise\n",
    "- Visualize dominant eigen faces of each of the classes.\n",
    "- Print the number of principal components required to retain 90% variance for each of the classes and for the entire dataset\n",
    "- Are the number of components same for entire dataset and each of the classes. If yes why? If not why?\n",
    "\n",
    "Example output:\n",
    "```\n",
    "Number of principal components required for 90% reconstruction of the:\n",
    "Entire Dataset = 10 \n",
    "Amitabhbachan = 10\n",
    "AamirKhan = 10\n",
    "...\n",
    "```"
   ]
  },
  {
   "cell_type": "code",
   "execution_count": 13,
   "id": "composed-administration",
   "metadata": {},
   "outputs": [
    {
     "name": "stdout",
     "output_type": "stream",
     "text": [
      "Dataset shape: (672, 32, 32, 3)\n",
      "Label shape: (672,)\n"
     ]
    }
   ],
   "source": [
    "# Load data again\n",
    "X,y = load_data(dirpath)"
   ]
  },
  {
   "cell_type": "markdown",
   "id": "exact-pathology",
   "metadata": {},
   "source": [
    "#### Visualize dominant eigen faces of each of the classes"
   ]
  },
  {
   "cell_type": "code",
   "execution_count": 14,
   "id": "damaged-glucose",
   "metadata": {},
   "outputs": [],
   "source": [
    "# visualize"
   ]
  },
  {
   "cell_type": "markdown",
   "id": "received-branch",
   "metadata": {},
   "source": [
    "#### Number of principal components required to retain 90% variance for each of the classes and for the entire dataset"
   ]
  },
  {
   "cell_type": "code",
   "execution_count": 15,
   "id": "transparent-passion",
   "metadata": {},
   "outputs": [],
   "source": [
    "# components required"
   ]
  },
  {
   "cell_type": "markdown",
   "id": "offshore-allocation",
   "metadata": {},
   "source": [
    "#### Analysis : Are the number of components same for entire dataset and each of the classes. If yes why? If not why?"
   ]
  },
  {
   "cell_type": "code",
   "execution_count": 16,
   "id": "matched-defeat",
   "metadata": {},
   "outputs": [],
   "source": [
    "# observation/analysis"
   ]
  },
  {
   "cell_type": "markdown",
   "id": "minimal-clock",
   "metadata": {},
   "source": [
    "## Linear Regression (continued)\n",
    "1. Perform linear regression on below datapoints\n",
    "2. Use PCA for dimensionality reduction on this datapoints and then perform Linear regression.\n",
    "3. Perform this experiment on different number of components and report the score for linear regression. Plot the graph of [1-200] principal components vs regression score. What do you observe?\n",
    "\n",
    "Note :- Can use inbuilt functions for Linear Regression and PCA for this question"
   ]
  },
  {
   "cell_type": "code",
   "execution_count": 17,
   "id": "expanded-forwarding",
   "metadata": {},
   "outputs": [
    {
     "name": "stdout",
     "output_type": "stream",
     "text": [
      "Dataset shape: (672, 32, 32, 3)\n",
      "Label shape: (672,)\n",
      "(672,)\n"
     ]
    }
   ],
   "source": [
    "# datapoints\n",
    "X,_ = load_data(dirpath)\n",
    "X = X.reshape((X.shape[0],-1))\n",
    "label = np.array([randrange((32*32*3)) for i in range(5)])\n",
    "label = np.mean(X[:,label], axis = 1)\n",
    "print(label.shape)"
   ]
  },
  {
   "cell_type": "code",
   "execution_count": 18,
   "id": "guided-bones",
   "metadata": {},
   "outputs": [],
   "source": [
    "# code here"
   ]
  },
  {
   "cell_type": "code",
   "execution_count": 19,
   "id": "tracked-hundred",
   "metadata": {},
   "outputs": [],
   "source": [
    "# analysis / plot (split the cells if required)"
   ]
  }
 ],
 "metadata": {
  "kernelspec": {
   "display_name": "Python 3.8.10 64-bit",
   "language": "python",
   "name": "python3"
  },
  "language_info": {
   "codemirror_mode": {
    "name": "ipython",
    "version": 3
   },
   "file_extension": ".py",
   "mimetype": "text/x-python",
   "name": "python",
   "nbconvert_exporter": "python",
   "pygments_lexer": "ipython3",
   "version": "3.8.10"
  },
  "vscode": {
   "interpreter": {
    "hash": "31f2aee4e71d21fbe5cf8b01ff0e069b9275f58929596ceb00d14d90e3e16cd6"
   }
  }
 },
 "nbformat": 4,
 "nbformat_minor": 5
}
