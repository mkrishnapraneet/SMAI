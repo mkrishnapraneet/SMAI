{
 "cells": [
  {
   "cell_type": "markdown",
   "id": "186be3d3",
   "metadata": {},
   "source": [
    "# Assignment 2 - Question 1\n",
    "The objective of this assignment is to get you familiarize with  the  problem  of  `KNN Classifiers`.\n",
    "\n",
    "\n",
    "## Instructions\n",
    "- Do not Use Direct Inbuilt functions for the Task.\n",
    "- Numpy or other math libraries are allowed \n",
    "- Ensure that this notebook runs without errors when the cells are run in sequence.\n",
    "- Do not change the contents of the Given cells. Use new cells to Write your code.\n",
    "\n",
    "\n",
    "## Submission\n",
    "- Ensure that this notebook runs without errors when the cells are run in sequence.\n",
    "- Rename the notebook to `<roll_number>_Q1.ipynb`\n",
    "- Fill the Name and Roll number in the below markdown"
   ]
  },
  {
   "cell_type": "markdown",
   "id": "6f6269f1",
   "metadata": {},
   "source": [
    "Name:    Mulukutla Krishna Praneet <br> \n",
    "Roll Number:   2020113010"
   ]
  },
  {
   "cell_type": "markdown",
   "id": "edeabff5",
   "metadata": {},
   "source": [
    "### Dataset\n",
    "\n",
    "Use the code below to load the Dataset"
   ]
  },
  {
   "cell_type": "code",
   "execution_count": 1,
   "id": "69cac090",
   "metadata": {},
   "outputs": [],
   "source": [
    "import numpy as np\n",
    "import pandas as pd\n",
    "from sklearn.model_selection import train_test_split"
   ]
  },
  {
   "cell_type": "code",
   "execution_count": 2,
   "id": "e0fa6912",
   "metadata": {},
   "outputs": [],
   "source": [
    "#Load data\n",
    "iris = pd.read_csv('Iris.csv')\n",
    "#data cleaning\n",
    "iris.drop(columns=\"Id\",inplace=True)"
   ]
  },
  {
   "cell_type": "code",
   "execution_count": 3,
   "id": "1ca8135b",
   "metadata": {},
   "outputs": [],
   "source": [
    "#features and labels\n",
    "X=iris.iloc[:,0:4].values\n",
    "y=iris.iloc[:,4].values\n",
    "\n",
    "#Train and Test split\n",
    "X_train,X_test,y_train,y_test=train_test_split(X,y,test_size=0.2,random_state=0)"
   ]
  },
  {
   "cell_type": "markdown",
   "id": "d14014cb",
   "metadata": {},
   "source": [
    "Write your Code below for KNN Classifier.<br>\n",
    "Use different values of K and test the accuracies."
   ]
  },
  {
   "cell_type": "code",
   "execution_count": 4,
   "id": "6ca8c19d",
   "metadata": {},
   "outputs": [
    {
     "name": "stdout",
     "output_type": "stream",
     "text": [
      "Accuracy for k =  1  is  1.0\n",
      "Accuracy for k =  2  is  1.0\n",
      "Accuracy for k =  3  is  0.9666666666666667\n",
      "Accuracy for k =  4  is  1.0\n",
      "Accuracy for k =  5  is  0.9666666666666667\n",
      "Accuracy for k =  6  is  1.0\n",
      "Accuracy for k =  7  is  1.0\n",
      "Accuracy for k =  8  is  1.0\n",
      "Accuracy for k =  9  is  1.0\n"
     ]
    }
   ],
   "source": [
    "from collections import Counter\n",
    "# print(X.shape)\n",
    "# print(X_train.shape)\n",
    "# print(X_train[0])\n",
    "\n",
    "# implementation of KNN\n",
    "class KNN:\n",
    "    def __init__(self, X, Y):\n",
    "        self.X_train = X\n",
    "        self.Y_train = Y\n",
    "        \n",
    "\n",
    "    # def fit(self, X, y):\n",
    "    #     self.X_train = X\n",
    "    #     self.y_train = y\n",
    "\n",
    "    def predict(self, X, k):\n",
    "        self.k = k\n",
    "        y_pred = [self._predict(x) for x in X]\n",
    "        return np.array(y_pred)\n",
    "    \n",
    "    def euclidean_distance(self, x1, x2):\n",
    "        return np.sqrt(np.sum((x1 - x2) ** 2))\n",
    " \n",
    "\n",
    "    def _predict(self, x):\n",
    "        # compute distances\n",
    "        distances = [self.euclidean_distance(x, x_train) for x_train in self.X_train]\n",
    "        # get k nearest samples, labels\n",
    "        k_indices = np.argsort(distances)[:self.k]\n",
    "        k_nearest_labels = [self.Y_train[i] for i in k_indices]\n",
    "        # majority vote, most common class label        \n",
    "        most_common = Counter(k_nearest_labels).most_common(1)\n",
    "        return most_common[0][0]\n",
    "    \n",
    "    def accuracy(self, y_true, y_pred):\n",
    "        accuracy = np.sum(y_true == y_pred) / len(y_true)\n",
    "        return accuracy\n",
    "    \n",
    "    \n",
    "\n",
    "for k in range(1,10):\n",
    "    clf = KNN(X_train, y_train)\n",
    "    y_pred = clf.predict(X_test, k)\n",
    "    accuracy = clf.accuracy(y_test, y_pred)\n",
    "    print(\"Accuracy for k = \",k,\" is \",accuracy)\n",
    "\n",
    "    \n",
    "    \n",
    "        \n",
    "\n",
    "\n"
   ]
  },
  {
   "cell_type": "markdown",
   "id": "1c3ac0ca",
   "metadata": {},
   "source": [
    "### Questions\n",
    "\n",
    "1) What are the Advantages and Disadvantages of KNN algorithm?<br>\n",
    "2) What is the complexity of the KNN algorithm during Training and Testing?<br> \n",
    "3) Is euclidian distance the only distance metric used in KNN? \n",
    "4) what K value gave the best accuracy?"
   ]
  },
  {
   "cell_type": "markdown",
   "id": "47958869",
   "metadata": {},
   "source": [
    "1. Advantages : \n",
    "    No training period required\n",
    "    Very simple to implement\n",
    "    As there is no training period thus new data can be added at any time since it wont affect the model\n",
    "\n",
    "    Disadvantages :\n",
    "    Computationally expensive during testing\n",
    "    Thus, bad with huge datasets\n",
    "    Does not work well with high dimensionality as this will complicate the distance calculating process to calculate distance for each dimension.\n",
    "    Sensitive to noise\n",
    "    Sensitive to outliers\n",
    "    Sometimes maybe hard to choose the right value of K\n",
    "\n",
    "2. Complexity of KNN during training is O(1) as there is no training period. During testing, it is O(n) as we have to calculate the distance of the test point from all the training points.\n",
    "\n",
    "3. No, there are other distance metrics like Manhattan distance, Minkowski distance, etc.\n",
    "\n",
    "4. K = 1 and k = 3, etc and  gave the best accuracy as given in the cell.\n",
    "\n",
    "    "
   ]
  },
  {
   "cell_type": "markdown",
   "id": "7b51e92e",
   "metadata": {},
   "source": []
  }
 ],
 "metadata": {
  "kernelspec": {
   "display_name": "Python 3.8.10 64-bit",
   "language": "python",
   "name": "python3"
  },
  "language_info": {
   "codemirror_mode": {
    "name": "ipython",
    "version": 3
   },
   "file_extension": ".py",
   "mimetype": "text/x-python",
   "name": "python",
   "nbconvert_exporter": "python",
   "pygments_lexer": "ipython3",
   "version": "3.8.10"
  },
  "vscode": {
   "interpreter": {
    "hash": "31f2aee4e71d21fbe5cf8b01ff0e069b9275f58929596ceb00d14d90e3e16cd6"
   }
  }
 },
 "nbformat": 4,
 "nbformat_minor": 5
}
