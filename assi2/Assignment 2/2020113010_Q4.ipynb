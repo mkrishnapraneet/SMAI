{
 "cells": [
  {
   "cell_type": "markdown",
   "id": "improving-pepper",
   "metadata": {},
   "source": [
    "# Assignment 2 - Question 4\n",
    "The objective of this assignment is to get you familiarize with  the  problem  of  `Linear Regression`.\n",
    "\n",
    "## Instructions\n",
    "- Write your code and analysis in the indicated cells.\n",
    "- Ensure that this notebook runs without errors when the cells are run in sequence.\n",
    "- Do not attempt to change the contents of other cells.\n",
    "- No inbuilt functions to be used until specified\n",
    "\n",
    "## Submission\n",
    "- Ensure that this notebook runs without errors when the cells are run in sequence.\n",
    "- Rename the notebook to `<roll_number>_Q4.ipynb`.\n",
    "- Fill the Name and Roll number in the below markdown"
   ]
  },
  {
   "cell_type": "markdown",
   "id": "6f6269f1",
   "metadata": {},
   "source": [
    "Name: Mulukutla Krishna Praneet<br>\n",
    "Roll Number: 2020113010"
   ]
  },
  {
   "cell_type": "markdown",
   "id": "final-transaction",
   "metadata": {},
   "source": [
    "## Background about the dataset\n",
    "\n",
    "TLDR: You have 4 independent variables (`float`) for each molecule. You can use a linear combination of these 4 independent variables to predict the bandgap (dependent variable) of each molecule.\n",
    "\n",
    "You can read more about the problem in [Li et al, Bandgap tuning strategy by cations and halide ions of lead halide perovskites learned from machine learning, RSC Adv., 2021,11, 15688-15694](https://doi.org/10.1039/D1RA03117A)."
   ]
  },
  {
   "cell_type": "code",
   "execution_count": 1,
   "id": "lyric-olympus",
   "metadata": {},
   "outputs": [],
   "source": [
    "import csv\n",
    "import random\n",
    "import numpy as np"
   ]
  },
  {
   "cell_type": "code",
   "execution_count": 2,
   "id": "hundred-receipt",
   "metadata": {},
   "outputs": [],
   "source": [
    "all_molecules = list()\n",
    "\n",
    "with open('bg_data.txt', 'r') as infile:\n",
    "    input_rows = csv.DictReader(infile)\n",
    "    \n",
    "    for row in input_rows:\n",
    "        current_mol = ([float(row['Cs']), float(row['FA']), float(row['Cl']), float(row['Br'])], float(row['Bandgap']))\n",
    "        all_molecules.append(current_mol)\n",
    "\n",
    "random.shuffle(all_molecules)\n",
    "\n",
    "\n",
    "num_train = int(len(all_molecules) * 0.8)\n",
    "\n",
    "# each point in x_train has 4 values - 1 for each feature\n",
    "x_train = [x[0] for x in all_molecules[:num_train]]\n",
    "# each point in y_train has 1 value - the bandgap of the molecule\n",
    "y_train = [x[1] for x in all_molecules[:num_train]]\n",
    "\n",
    "x_test = [x[0] for x in all_molecules[num_train:]]\n",
    "y_test = [x[1] for x in all_molecules[num_train:]]"
   ]
  },
  {
   "cell_type": "markdown",
   "id": "square-direction",
   "metadata": {},
   "source": [
    "### 4.1 Implement a Linear Regression model that minimizes the MSE **without using any libraries**. You may use NumPy to vectorize your code, but *do not use numpy.polyfit* or anything similar.\n",
    "\n",
    "4.1.1 Explain how you plan to implement Linear Regression in 5-10 lines."
   ]
  },
  {
   "cell_type": "markdown",
   "id": "frozen-forth",
   "metadata": {},
   "source": [
    "Linear regression is implemented by finding a line equation which best fit for the training samples and could be generalized to any data. This is later used to make predicitons. Here, I have found the best fit line using Gradient descent, using the loss function as MSE(i.e, the mean square of the difference between the predicted and actual points). \n",
    "As we iteratively update the weights based on a learning rate that must be given, the algorithm eventually converges and the final weights and bias are used as the coefficients of the line equation, allowing us to plot decision boundary.<!-- your answer to 1.1.1 -->"
   ]
  },
  {
   "cell_type": "markdown",
   "id": "addressed-winter",
   "metadata": {},
   "source": [
    "4.1.2 Implement Linear Regression using `x_train` and `y_train` as the train dataset.\n",
    "\n",
    "4.1.2.1 Choose the best learning rate and print the learning rate for which you achieved the best MSE."
   ]
  },
  {
   "cell_type": "code",
   "execution_count": 3,
   "id": "angry-depression",
   "metadata": {},
   "outputs": [
    {
     "name": "stdout",
     "output_type": "stream",
     "text": [
      "Learning rate:  0.0001\n",
      "MSE:  0.2980447867761094\n",
      "Number of iterations:  10000\n",
      "\n",
      "\n",
      "Learning rate:  0.001\n",
      "MSE:  0.024405447079961992\n",
      "Number of iterations:  10000\n",
      "\n",
      "\n",
      "Learning rate:  0.01\n",
      "MSE:  0.013604297483637074\n",
      "Number of iterations:  10000\n",
      "\n",
      "\n",
      "Learning rate:  0.1\n",
      "MSE:  0.013637994150961891\n",
      "Number of iterations:  4336\n",
      "\n",
      "\n",
      "Learning rate:  1\n",
      "MSE:  0.013637994520280522\n",
      "Number of iterations:  494\n",
      "\n",
      "\n"
     ]
    }
   ],
   "source": [
    "# implement Linear Regression\n",
    "\n",
    "# from sklearn.model_selection import train_test_split\n",
    "import matplotlib.pyplot as plt\n",
    "\n",
    "# import mse function\n",
    "from sklearn.metrics import mean_squared_error\n",
    "\n",
    "# use the sigmoid function to calculate the probability of the logistic regression model\n",
    "# def sigmoid(scores):\n",
    "    # return 1 / (1 + np.exp(-scores))\n",
    "\n",
    "# Logistic Regression\n",
    "\n",
    "class LinearRegression():\n",
    "    def __init__(self, X_train, y_train, learning_rate, iterations):\n",
    "        # self.X = X_train\n",
    "        self.X = np.c_[np.ones((X_train.shape[0],1)),X_train]\n",
    "        self.y = y_train\n",
    "        self.W = np.zeros((X_train.shape[1]+1,1))\n",
    "        # self.learning_rate = 0.0001\n",
    "        self.learning_rate = learning_rate\n",
    "        # self.iterations = 10000\n",
    "        self.iterations = iterations\n",
    "        # print(self.X.shape)\n",
    "        # print(self.y.shape)\n",
    "        # print(self.W.shape)\n",
    "\n",
    "# use the log loss function to calculate the loss in the logistic regression model\n",
    "    # def log_loss(self, W):\n",
    "    #     z = np.dot(self.X,W)\n",
    "    #     cost0 = (self.y).T.dot(np.log(sigmoid(z)))\n",
    "    #     cost1 = (1-(self.y)).T.dot(np.log(1-sigmoid(z)))\n",
    "    #     cost = -((cost1 + cost0))/len(self.y) \n",
    "    #     return cost\n",
    "\n",
    "    # dJ/dW = X.T.dot(sigmoid(z)-y)       \n",
    "\n",
    "    def fit(self):\n",
    "        # dJ_by_dW = 500\n",
    "        counter = 0\n",
    "        diff = 500\n",
    "        prev_W = self.W\n",
    "        # for i in range(self.iterations):        \n",
    "        # stop when the gradient is small enough\n",
    "        # while (np.sum(abs(dJ_by_dW)) > 0.0000000000001):\n",
    "        while (diff > 1e-9 and counter < self.iterations):\n",
    "        # while (diff > 1e-9):\n",
    "            z = np.dot(self.X,self.W)\n",
    "            # dJ_by_dW = np.dot(self.X.T,(sigmoid(z)-np.reshape(self.y,(len(self.y),1))))\n",
    "            dJ_by_dW = np.dot(self.X.T,(z-np.reshape(self.y,(len(self.y),1))))        \n",
    "            \n",
    "            self.W = self.W - ((self.learning_rate) / (self.X.shape[0])) * dJ_by_dW\n",
    "\n",
    "            diff = np.sum(abs(self.W - prev_W))\n",
    "            prev_W = self.W\n",
    "            counter += 1\n",
    "            # print(self.W)\n",
    "        return self.W, counter\n",
    "\n",
    "    def predict(self, X_test):\n",
    "        X_test = np.c_[np.ones((X_test.shape[0],1)),X_test]\n",
    "        z = np.dot(X_test,self.W)   \n",
    "        return z\n",
    "        # return sigmoid(z)\n",
    "    \n",
    "    def accuracy(self, X_test, y_test):\n",
    "        y_pred = self.predict(X_test)\n",
    "        # y_pred = (y_pred > 0.5).astype(int)\n",
    "        # print(y_pred)\n",
    "        # print(y_test)\n",
    "        # compare the predicted value with the actual value using MSE\n",
    "        # count = 0\n",
    "        MSE_pred = 0\n",
    "        # for i in range(len(y_pred)):\n",
    "        #     term = (y_pred[i] - y_test[i])**2\n",
    "        #     MSE_pred += term\n",
    "\n",
    "        MSE_pred = MSE_pred/len(y_pred)\n",
    "\n",
    "        # MSE_pred = np.average((y_pred - y_test)**2)\n",
    "        MSE_pred = mean_squared_error(y_test, y_pred)\n",
    "        return MSE_pred, y_pred\n",
    "\n",
    "        #     if y_pred[i] == y_test[i]:\n",
    "        #         count += 1\n",
    "        # return count/len(y_pred)\n",
    "        # return np.mean(y_pred == y_test)\n",
    "    \n",
    "    def plot(self):\n",
    "        plt.scatter(self.X[:,1], self.y, color = 'red')\n",
    "        plt.plot(self.X[:,1], np.dot(self.X,self.W), color = 'blue')\n",
    "        plt.title('Linear Regression')\n",
    "        plt.xlabel('X')\n",
    "        plt.ylabel('y')\n",
    "        plt.show()\n",
    "\n",
    "# learning_rates = [0.1]  \n",
    "learning_rates = [0.0001, 0.001, 0.01, 0.1, 1]\n",
    "for i in range(len(learning_rates)):\n",
    "    model = LinearRegression(np.array(x_train), np.array(y_train), learning_rates[i], 10000)\n",
    "    m, num_iter =  model.fit()\n",
    "    # print(m)\n",
    "    MSE_pred, y_pred = model.accuracy(np.array(x_test), np.array(y_test))\n",
    "    print(\"Learning rate: \", learning_rates[i])\n",
    "    print(\"MSE: \", MSE_pred)\n",
    "    print(\"Number of iterations: \", num_iter)\n",
    "    print(\"\\n\")\n",
    "\n",
    "# print(\"The best learning rate is 0.001\")\n",
    "\n",
    "    # model.plot()\n",
    "# model = LinearRegression(np.array(x_train), np.array(y_train), 0.0001, 100000)\n",
    "# model.fit()\n",
    "# # model.plot()\n",
    "# MSE_pred, y_pred = model.accuracy(np.array(x_test), np.array(y_test))\n",
    "# print(\"MSE of Predictions = \" , MSE_pred)\n"
   ]
  },
  {
   "cell_type": "markdown",
   "id": "angry-tampa",
   "metadata": {},
   "source": [
    "4.1.3 Make a [Parity Plot](https://en.wikipedia.org/wiki/Parity_plot) of your model's bandgap predictions on the test set with the actual values."
   ]
  },
  {
   "cell_type": "code",
   "execution_count": 4,
   "id": "foster-center",
   "metadata": {},
   "outputs": [
    {
     "data": {
      "image/png": "[encoded data removed]",
      "text/plain": [
       "<Figure size 720x1440 with 1 Axes>"
      ]
     },
     "metadata": {
      "needs_background": "light"
     },
     "output_type": "display_data"
    }
   ],
   "source": [
    "# Get the predictions of x_test into `y_pred`\n",
    "\n",
    "#\n",
    "# ...\n",
    "#\n",
    "\n",
    "import matplotlib.pyplot as plt\n",
    "fig, ax = plt.subplots(figsize=(10,20))\n",
    "\n",
    "ax.scatter(y_test, y_pred)\n",
    "\n",
    "lims = [\n",
    "    np.min([ax.get_xlim(), ax.get_ylim()]),\n",
    "    np.max([ax.get_xlim(), ax.get_ylim()]),\n",
    "]\n",
    "ax.plot(lims, lims, 'k-', alpha=0.75, zorder=0)\n",
    "ax.set_aspect('equal')\n",
    "ax.set_xlim(lims)\n",
    "ax.set_ylim(lims)\n",
    "\n",
    "ax.set_title('Parity Plot of Custom Linear Regression')\n",
    "ax.set_xlabel('Ground truth bandgap values')\n",
    "ax.set_ylabel('Predicted bandgap values')\n",
    "plt.show()"
   ]
  },
  {
   "cell_type": "markdown",
   "id": "dominant-chaos",
   "metadata": {},
   "source": [
    "### 4.2 Implement Ridge regression\n",
    "4.2.1 Explain Ridge regression briefly in 1-2 lines."
   ]
  },
  {
   "cell_type": "markdown",
   "id": "happy-cyprus",
   "metadata": {},
   "source": [
    "<!-- Your answer to 1.2.1 -->\n",
    "Ridge regression adds a sum of squares of the wieght terms multiplied with a constant in the loss function.\n",
    "Thus the algorithm makes sure to optimize such a way that even the weights are minimized(and sometimes made zero) and reduce overfitting.\n",
    "\n",
    "\n",
    "alpha controls the effect of the of the sum of the squares of the weights added to the loss function . Alpha is multipled with the sum of the sqaures of the weights and added to loss function. \n",
    "SoThis means that when alpha = 0 then the effect of the term would be 0 and the loss function woudld be same as the normal linear regression.\n",
    "(can be inferred from table in the following cell)\n",
    "when the alpha value is very low or 0 its rmse is similar to linear regression in the above section as alpha increases the effect of the sum of the squares of the weights increases in loss function and hence by the algorithm eventually tries to decrease the magnitude of the weights as less as possible . \n",
    "So, in most cases, as alpha increases the sum of the squares of the weights also decreases and we can infer the same from the below table ."
   ]
  },
  {
   "cell_type": "markdown",
   "id": "tight-forwarding",
   "metadata": {},
   "source": [
    "4.2.2 Implement Ridge regression and make a table of different RMSE scores you achieved with different values of alpha. What does the parameter `alpha` do? How does it affect the results here? Explain in 5-10 lines in total. (You can use scikit-learn from this cell onwards)"
   ]
  },
  {
   "cell_type": "code",
   "execution_count": 5,
   "id": "violent-northern",
   "metadata": {},
   "outputs": [
    {
     "name": "stdout",
     "output_type": "stream",
     "text": [
      "     alpha       MSE\n",
      "0   0.0001  0.013638\n",
      "1   0.0010  0.013637\n",
      "2   0.0100  0.013627\n",
      "3   0.1000  0.013580\n",
      "4   1.0000  0.016070\n",
      "5   2.0000  0.021195\n",
      "6  10.0000  0.052901\n"
     ]
    },
    {
     "data": {
      "image/png": "[encoded data removed]",
      "text/plain": [
       "<Figure size 432x288 with 1 Axes>"
      ]
     },
     "metadata": {
      "needs_background": "light"
     },
     "output_type": "display_data"
    }
   ],
   "source": [
    "# you should not have imported sklearn before this point\n",
    "import sklearn\n",
    "\n",
    "# implement Ridge regression and make a table where you explore the effect of different values of `alpha`\n",
    "\n",
    "from sklearn.linear_model import Ridge\n",
    "from sklearn.metrics import mean_squared_error\n",
    "\n",
    "\n",
    "# Ridge Regression using sklearn\n",
    "\n",
    "class RidgeRegression():\n",
    "    def __init__(self, X_train, y_train, alpha):\n",
    "        self.X = X_train\n",
    "        self.y = y_train\n",
    "        self.alpha = alpha\n",
    "\n",
    "    def fit(self):\n",
    "        self.model = Ridge(alpha=self.alpha)\n",
    "        self.model.fit(self.X, self.y)\n",
    "        return self.model\n",
    "\n",
    "    def predict(self, X_test):\n",
    "        return self.model.predict(X_test)\n",
    "\n",
    "    def accuracy(self, X_test, y_test):\n",
    "        y_pred = self.predict(X_test)\n",
    "        MSE_pred = mean_squared_error(y_test, y_pred)\n",
    "        return MSE_pred, y_pred\n",
    "\n",
    "    def plot(self):\n",
    "        plt.scatter(self.X[:,1], self.y, color = 'red')\n",
    "        plt.plot(self.X[:,1], self.model.predict(self.X), color = 'blue')\n",
    "        plt.title('Ridge Regression')\n",
    "        plt.xlabel('X')\n",
    "        plt.ylabel('y')\n",
    "        plt.show()\n",
    "\n",
    "alpha = [0.0001, 0.001, 0.01, 0.1, 1, 2, 10]\n",
    "# alpha = [0.1]\n",
    "MSE_pred = []\n",
    "for i in range(len(alpha)):\n",
    "    model = RidgeRegression(np.array(x_train), np.array(y_train), alpha[i])\n",
    "    model.fit()\n",
    "    MSE, y_pred = model.accuracy(np.array(x_test), np.array(y_test))\n",
    "    MSE_pred.append(MSE)\n",
    "\n",
    "# print(\"MSE of Predictions = \" , MSE_pred)\n",
    "import pandas as pd\n",
    "df = pd.DataFrame({'alpha': alpha, 'MSE': MSE_pred})\n",
    "print(df)\n",
    "\n",
    "# Plot the MSE vs alpha\n",
    "\n",
    "plt.plot(alpha, MSE_pred)\n",
    "plt.title('MSE vs alpha')\n",
    "plt.xlabel('alpha')\n",
    "plt.ylabel('MSE')\n",
    "plt.show()\n",
    "\n",
    "\n"
   ]
  },
  {
   "cell_type": "markdown",
   "id": "adolescent-temperature",
   "metadata": {},
   "source": [
    "### 4.3 Implement Lasso regression\n",
    "4.3.1 Explain Lasso regression briefly in 1-2 lines.\n",
    "\n",
    "Lasso regression is similar to ridge regression and it tries to optimize the function  in such a way that the magnitude of wight values are smaller . In lasso regression sum of absolute(or mod) of weight terms is added to the loss term multiplied with a constant k.\n",
    "\n",
    "the parameter alpha controls the effect of the of the sum of the absolute values  of the weights added to the loss function . \n",
    "Alpha is multipled with the sum of the absolute values of the weights and added to loss function. \n",
    "This means that when alpha is =0 then the effect of the term would be 0 and the loss function woudld be same as the normal linear regression and in this case lasso regression performs similar to linear regression. \n",
    "The same is observed from the below table as well (aplha vs mse). when the alpha value is very low or 0 its rmse is similar to linear regression in the above section .as alpha increases the loss function gives higher importance to the added term and eventually tries to decrease the value of the term as low as possible since the weight values are not scared it might be eventually become 0 at a faster rate as alpha increases."
   ]
  },
  {
   "cell_type": "markdown",
   "id": "popular-wonder",
   "metadata": {},
   "source": [
    "4.3.2 Implement Lasso regression and make a table of different RMSE scores you achieved with different values of alpha. What does the parameter `alpha` do? How does it affect the results here? Explain in 5-10 lines in total."
   ]
  },
  {
   "cell_type": "code",
   "execution_count": 6,
   "id": "extra-brighton",
   "metadata": {},
   "outputs": [
    {
     "name": "stdout",
     "output_type": "stream",
     "text": [
      "    alpha       MSE\n",
      "0  0.0001  0.013626\n",
      "1  0.0010  0.013567\n",
      "2  0.0100  0.016898\n",
      "3  0.1000  0.120175\n",
      "4  1.0000  0.138336\n",
      "5  2.0000  0.138336\n"
     ]
    },
    {
     "data": {
      "image/png": "[encoded data removed]",
      "text/plain": [
       "<Figure size 432x288 with 1 Axes>"
      ]
     },
     "metadata": {
      "needs_background": "light"
     },
     "output_type": "display_data"
    }
   ],
   "source": [
    "# implement Lasso regression and make a table where you explore the effect of different values of `alpha`\n",
    "\n",
    "from sklearn.linear_model import Lasso\n",
    "from sklearn.metrics import mean_squared_error\n",
    "\n",
    "# Lasso Regression using sklearn\n",
    "\n",
    "class LassoRegression():\n",
    "    def __init__(self, X_train, y_train, alpha):\n",
    "        self.X = X_train\n",
    "        self.y = y_train\n",
    "        self.alpha = alpha\n",
    "\n",
    "    def fit(self):\n",
    "        self.model = Lasso(alpha=self.alpha)\n",
    "        self.model.fit(self.X, self.y)\n",
    "        return self.model\n",
    "\n",
    "    def predict(self, X_test):\n",
    "        return self.model.predict(X_test)\n",
    "\n",
    "    def accuracy(self, X_test, y_test):\n",
    "        y_pred = self.predict(X_test)\n",
    "        MSE_pred = mean_squared_error(y_test, y_pred)\n",
    "        return MSE_pred, y_pred\n",
    "\n",
    "    def plot(self):\n",
    "        plt.scatter(self.X[:,1], self.y, color = 'red')\n",
    "        plt.plot(self.X[:,1], self.model.predict(self.X), color = 'blue')\n",
    "        plt.title('Lasso Regression')\n",
    "        plt.xlabel('X')\n",
    "        plt.ylabel('y')\n",
    "        plt.show()\n",
    "    \n",
    "# alpha = [0.0001, 0.001, 0.01, 0.1, 1, 10, 100, 500, 1000]\n",
    "alpha = [0.0001, 0.001, 0.01, 0.1, 1, 2]\n",
    "MSE_pred = []\n",
    "for i in range(len(alpha)):\n",
    "    model = LassoRegression(np.array(x_train), np.array(y_train), alpha[i])\n",
    "    model.fit()\n",
    "    MSE, y_pred = model.accuracy(np.array(x_test), np.array(y_test))\n",
    "    MSE_pred.append(MSE)\n",
    "\n",
    "# print(\"MSE of Predictions = \" , MSE_pred)\n",
    "\n",
    "# pandas dataframe table for MSE vs alpha\n",
    "\n",
    "import pandas as pd\n",
    "df = pd.DataFrame({'alpha': alpha, 'MSE': MSE_pred})\n",
    "print(df)\n",
    "\n",
    "# Plot the MSE vs alpha\n",
    "\n",
    "plt.plot(alpha, MSE_pred)\n",
    "plt.title('MSE vs alpha')\n",
    "plt.xlabel('alpha')\n",
    "plt.ylabel('MSE')\n",
    "plt.show()\n",
    "\n"
   ]
  },
  {
   "cell_type": "code",
   "execution_count": null,
   "id": "accompanied-worst",
   "metadata": {},
   "outputs": [],
   "source": []
  }
 ],
 "metadata": {
  "kernelspec": {
   "display_name": "Python 3.8.10 64-bit",
   "language": "python",
   "name": "python3"
  },
  "language_info": {
   "codemirror_mode": {
    "name": "ipython",
    "version": 3
   },
   "file_extension": ".py",
   "mimetype": "text/x-python",
   "name": "python",
   "nbconvert_exporter": "python",
   "pygments_lexer": "ipython3",
   "version": "3.8.10"
  },
  "vscode": {
   "interpreter": {
    "hash": "31f2aee4e71d21fbe5cf8b01ff0e069b9275f58929596ceb00d14d90e3e16cd6"
   }
  }
 },
 "nbformat": 4,
 "nbformat_minor": 5
}
